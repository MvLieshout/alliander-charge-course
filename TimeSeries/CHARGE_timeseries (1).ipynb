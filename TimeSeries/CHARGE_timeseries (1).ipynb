{
 "cells": [
  {
   "cell_type": "code",
   "execution_count": 2,
   "metadata": {},
   "outputs": [
    {
     "ename": "ValueError",
     "evalue": "Arg specs do not match: original=FullArgSpec(args=['input', 'dtype', 'name', 'layout'], varargs=None, varkw=None, defaults=(None, None, None), kwonlyargs=[], kwonlydefaults=None, annotations={}), new=FullArgSpec(args=['input', 'dtype', 'name'], varargs=None, varkw=None, defaults=(None, None), kwonlyargs=[], kwonlydefaults=None, annotations={}), fn=<function ones_like_v2 at 0x7fc6fa1e7d80>",
     "output_type": "error",
     "traceback": [
      "\u001b[0;31m---------------------------------------------------------------------------\u001b[0m",
      "\u001b[0;31mValueError\u001b[0m                                Traceback (most recent call last)",
      "Cell \u001b[0;32mIn[2], line 4\u001b[0m\n\u001b[1;32m      2\u001b[0m \u001b[38;5;28;01mimport\u001b[39;00m \u001b[38;5;21;01mmatplotlib\u001b[39;00m\u001b[38;5;21;01m.\u001b[39;00m\u001b[38;5;21;01mpyplot\u001b[39;00m \u001b[38;5;28;01mas\u001b[39;00m \u001b[38;5;21;01mplt\u001b[39;00m\n\u001b[1;32m      3\u001b[0m \u001b[38;5;28;01mfrom\u001b[39;00m \u001b[38;5;21;01mpathlib\u001b[39;00m \u001b[38;5;28;01mimport\u001b[39;00m Path\n\u001b[0;32m----> 4\u001b[0m \u001b[38;5;28;01mimport\u001b[39;00m \u001b[38;5;21;01mgpflow\u001b[39;00m\n",
      "File \u001b[0;32m/workspaces/Code/alliander-charge-course/.venv/lib/python3.12/site-packages/gpflow/__init__.py:17\u001b[0m\n\u001b[1;32m      1\u001b[0m \u001b[38;5;66;03m# Copyright 2016-2020 The GPflow Contributors. All Rights Reserved.\u001b[39;00m\n\u001b[1;32m      2\u001b[0m \u001b[38;5;66;03m#\u001b[39;00m\n\u001b[1;32m      3\u001b[0m \u001b[38;5;66;03m# Licensed under the Apache License, Version 2.0 (the \"License\");\u001b[39;00m\n\u001b[0;32m   (...)\u001b[0m\n\u001b[1;32m     14\u001b[0m \n\u001b[1;32m     15\u001b[0m \u001b[38;5;66;03m# flake8: noqa\u001b[39;00m\n\u001b[0;32m---> 17\u001b[0m \u001b[38;5;28;01mfrom\u001b[39;00m \u001b[38;5;21;01m.\u001b[39;00m \u001b[38;5;28;01mimport\u001b[39;00m (\n\u001b[1;32m     18\u001b[0m     conditionals,\n\u001b[1;32m     19\u001b[0m     config,\n\u001b[1;32m     20\u001b[0m     covariances,\n\u001b[1;32m     21\u001b[0m     expectations,\n\u001b[1;32m     22\u001b[0m     experimental,\n\u001b[1;32m     23\u001b[0m     functions,\n\u001b[1;32m     24\u001b[0m     inducing_variables,\n\u001b[1;32m     25\u001b[0m     kernels,\n\u001b[1;32m     26\u001b[0m     kullback_leiblers,\n\u001b[1;32m     27\u001b[0m     likelihoods,\n\u001b[1;32m     28\u001b[0m     logdensities,\n\u001b[1;32m     29\u001b[0m     mean_functions,\n\u001b[1;32m     30\u001b[0m     models,\n\u001b[1;32m     31\u001b[0m     monitor,\n\u001b[1;32m     32\u001b[0m     optimizers,\n\u001b[1;32m     33\u001b[0m     posteriors,\n\u001b[1;32m     34\u001b[0m     probability_distributions,\n\u001b[1;32m     35\u001b[0m     quadrature,\n\u001b[1;32m     36\u001b[0m     utilities,\n\u001b[1;32m     37\u001b[0m )\n\u001b[1;32m     38\u001b[0m \u001b[38;5;28;01mfrom\u001b[39;00m \u001b[38;5;21;01m.\u001b[39;00m\u001b[38;5;21;01mbase\u001b[39;00m \u001b[38;5;28;01mimport\u001b[39;00m Module, Parameter\n\u001b[1;32m     39\u001b[0m \u001b[38;5;28;01mfrom\u001b[39;00m \u001b[38;5;21;01m.\u001b[39;00m\u001b[38;5;21;01mconfig\u001b[39;00m \u001b[38;5;28;01mimport\u001b[39;00m default_float, default_int, default_jitter\n",
      "File \u001b[0;32m/workspaces/Code/alliander-charge-course/.venv/lib/python3.12/site-packages/gpflow/conditionals/__init__.py:1\u001b[0m\n\u001b[0;32m----> 1\u001b[0m \u001b[38;5;28;01mfrom\u001b[39;00m \u001b[38;5;21;01m.\u001b[39;00m \u001b[38;5;28;01mimport\u001b[39;00m conditionals, multioutput, sample_conditionals\n\u001b[1;32m      2\u001b[0m \u001b[38;5;28;01mfrom\u001b[39;00m \u001b[38;5;21;01m.\u001b[39;00m\u001b[38;5;21;01mdispatch\u001b[39;00m \u001b[38;5;28;01mimport\u001b[39;00m conditional, sample_conditional\n\u001b[1;32m      3\u001b[0m \u001b[38;5;28;01mfrom\u001b[39;00m \u001b[38;5;21;01m.\u001b[39;00m\u001b[38;5;21;01muncertain_conditionals\u001b[39;00m \u001b[38;5;28;01mimport\u001b[39;00m uncertain_conditional\n",
      "File \u001b[0;32m/workspaces/Code/alliander-charge-course/.venv/lib/python3.12/site-packages/gpflow/conditionals/conditionals.py:18\u001b[0m\n\u001b[1;32m     15\u001b[0m \u001b[38;5;28;01mfrom\u001b[39;00m \u001b[38;5;21;01mtyping\u001b[39;00m \u001b[38;5;28;01mimport\u001b[39;00m Optional\n\u001b[1;32m     17\u001b[0m \u001b[38;5;28;01mimport\u001b[39;00m \u001b[38;5;21;01mtensorflow\u001b[39;00m \u001b[38;5;28;01mas\u001b[39;00m \u001b[38;5;21;01mtf\u001b[39;00m\n\u001b[0;32m---> 18\u001b[0m \u001b[38;5;28;01mfrom\u001b[39;00m \u001b[38;5;21;01mcheck_shapes\u001b[39;00m \u001b[38;5;28;01mimport\u001b[39;00m check_shapes\n\u001b[1;32m     20\u001b[0m \u001b[38;5;28;01mfrom\u001b[39;00m \u001b[38;5;21;01m.\u001b[39;00m\u001b[38;5;21;01m.\u001b[39;00m\u001b[38;5;21;01mbase\u001b[39;00m \u001b[38;5;28;01mimport\u001b[39;00m MeanAndVariance\n\u001b[1;32m     21\u001b[0m \u001b[38;5;28;01mfrom\u001b[39;00m \u001b[38;5;21;01m.\u001b[39;00m\u001b[38;5;21;01m.\u001b[39;00m\u001b[38;5;21;01minducing_variables\u001b[39;00m \u001b[38;5;28;01mimport\u001b[39;00m InducingVariables\n",
      "File \u001b[0;32m/workspaces/Code/alliander-charge-course/.venv/lib/python3.12/site-packages/check_shapes/__init__.py:43\u001b[0m\n\u001b[1;32m     40\u001b[0m \u001b[38;5;28;01mfrom\u001b[39;00m \u001b[38;5;21;01m.\u001b[39;00m\u001b[38;5;21;01mshapes\u001b[39;00m \u001b[38;5;28;01mimport\u001b[39;00m get_shape, register_get_shape\n\u001b[1;32m     42\u001b[0m install_tf_integration()\n\u001b[0;32m---> 43\u001b[0m \u001b[43minstall_tfp_integration\u001b[49m\u001b[43m(\u001b[49m\u001b[43m)\u001b[49m\n\u001b[1;32m     44\u001b[0m install_torch_integration()\n\u001b[1;32m     46\u001b[0m __version__ \u001b[38;5;241m=\u001b[39m \u001b[38;5;124m\"\u001b[39m\u001b[38;5;124m1.1.1\u001b[39m\u001b[38;5;124m\"\u001b[39m\n",
      "File \u001b[0;32m/workspaces/Code/alliander-charge-course/.venv/lib/python3.12/site-packages/check_shapes/integration/tfp.py:34\u001b[0m, in \u001b[0;36minstall_tfp_integration\u001b[0;34m()\u001b[0m\n\u001b[1;32m     32\u001b[0m \u001b[38;5;28;01mtry\u001b[39;00m:\n\u001b[1;32m     33\u001b[0m     \u001b[38;5;28;01mimport\u001b[39;00m \u001b[38;5;21;01mtensorflow\u001b[39;00m \u001b[38;5;28;01mas\u001b[39;00m \u001b[38;5;21;01mtf\u001b[39;00m\n\u001b[0;32m---> 34\u001b[0m     \u001b[38;5;28;01mimport\u001b[39;00m \u001b[38;5;21;01mtensorflow_probability\u001b[39;00m \u001b[38;5;28;01mas\u001b[39;00m \u001b[38;5;21;01mtfp\u001b[39;00m\n\u001b[1;32m     35\u001b[0m \u001b[38;5;28;01mexcept\u001b[39;00m \u001b[38;5;167;01mImportError\u001b[39;00m:\n\u001b[1;32m     36\u001b[0m     \u001b[38;5;28;01mreturn\u001b[39;00m \u001b[38;5;28;01mFalse\u001b[39;00m  \u001b[38;5;66;03m# TensorFlow-Probability not installed - don't install integrations.\u001b[39;00m\n",
      "File \u001b[0;32m/workspaces/Code/alliander-charge-course/.venv/lib/python3.12/site-packages/tensorflow_probability/__init__.py:23\u001b[0m\n\u001b[1;32m     20\u001b[0m \u001b[38;5;28;01mfrom\u001b[39;00m \u001b[38;5;21;01mtensorflow_probability\u001b[39;00m \u001b[38;5;28;01mimport\u001b[39;00m substrates\n\u001b[1;32m     21\u001b[0m \u001b[38;5;66;03m# from tensorflow_probability.google import staging  # DisableOnExport\u001b[39;00m\n\u001b[1;32m     22\u001b[0m \u001b[38;5;66;03m# from tensorflow_probability.google import tfp_google  # DisableOnExport\u001b[39;00m\n\u001b[0;32m---> 23\u001b[0m \u001b[38;5;28;01mfrom\u001b[39;00m \u001b[38;5;21;01mtensorflow_probability\u001b[39;00m\u001b[38;5;21;01m.\u001b[39;00m\u001b[38;5;21;01mpython\u001b[39;00m \u001b[38;5;28;01mimport\u001b[39;00m \u001b[38;5;241m*\u001b[39m  \u001b[38;5;66;03m# pylint: disable=wildcard-import\u001b[39;00m\n\u001b[1;32m     24\u001b[0m \u001b[38;5;28;01mfrom\u001b[39;00m \u001b[38;5;21;01mtensorflow_probability\u001b[39;00m\u001b[38;5;21;01m.\u001b[39;00m\u001b[38;5;21;01mpython\u001b[39;00m\u001b[38;5;21;01m.\u001b[39;00m\u001b[38;5;21;01mversion\u001b[39;00m \u001b[38;5;28;01mimport\u001b[39;00m __version__\n",
      "File \u001b[0;32m/workspaces/Code/alliander-charge-course/.venv/lib/python3.12/site-packages/tensorflow_probability/python/__init__.py:138\u001b[0m\n\u001b[1;32m    135\u001b[0m \u001b[38;5;28;01mif\u001b[39;00m _tf_loaded():\n\u001b[1;32m    136\u001b[0m   \u001b[38;5;66;03m# Non-lazy load of packages that register with tensorflow or keras.\u001b[39;00m\n\u001b[1;32m    137\u001b[0m   \u001b[38;5;28;01mfor\u001b[39;00m pkg_name \u001b[38;5;129;01min\u001b[39;00m _maybe_nonlazy_load:\n\u001b[0;32m--> 138\u001b[0m     \u001b[38;5;28;43mdir\u001b[39;49m\u001b[43m(\u001b[49m\u001b[38;5;28;43mglobals\u001b[39;49m\u001b[43m(\u001b[49m\u001b[43m)\u001b[49m\u001b[43m[\u001b[49m\u001b[43mpkg_name\u001b[49m\u001b[43m]\u001b[49m\u001b[43m)\u001b[49m  \u001b[38;5;66;03m# Forces loading the package from its lazy loader.\u001b[39;00m\n\u001b[1;32m    141\u001b[0m all_util\u001b[38;5;241m.\u001b[39mremove_undocumented(\u001b[38;5;18m__name__\u001b[39m, _lazy_load \u001b[38;5;241m+\u001b[39m _maybe_nonlazy_load)\n",
      "File \u001b[0;32m/workspaces/Code/alliander-charge-course/.venv/lib/python3.12/site-packages/tensorflow_probability/python/internal/lazy_loader.py:57\u001b[0m, in \u001b[0;36mLazyLoader.__dir__\u001b[0;34m(self)\u001b[0m\n\u001b[1;32m     56\u001b[0m \u001b[38;5;28;01mdef\u001b[39;00m \u001b[38;5;21m__dir__\u001b[39m(\u001b[38;5;28mself\u001b[39m):\n\u001b[0;32m---> 57\u001b[0m   module \u001b[38;5;241m=\u001b[39m \u001b[38;5;28;43mself\u001b[39;49m\u001b[38;5;241;43m.\u001b[39;49m\u001b[43m_load\u001b[49m\u001b[43m(\u001b[49m\u001b[43m)\u001b[49m\n\u001b[1;32m     58\u001b[0m   \u001b[38;5;28;01mreturn\u001b[39;00m \u001b[38;5;28mdir\u001b[39m(module)\n",
      "File \u001b[0;32m/workspaces/Code/alliander-charge-course/.venv/lib/python3.12/site-packages/tensorflow_probability/python/internal/lazy_loader.py:40\u001b[0m, in \u001b[0;36mLazyLoader._load\u001b[0;34m(self)\u001b[0m\n\u001b[1;32m     38\u001b[0m   \u001b[38;5;28mself\u001b[39m\u001b[38;5;241m.\u001b[39m_on_first_access \u001b[38;5;241m=\u001b[39m \u001b[38;5;28;01mNone\u001b[39;00m\n\u001b[1;32m     39\u001b[0m \u001b[38;5;66;03m# Import the target module and insert it into the parent's namespace\u001b[39;00m\n\u001b[0;32m---> 40\u001b[0m module \u001b[38;5;241m=\u001b[39m \u001b[43mimportlib\u001b[49m\u001b[38;5;241;43m.\u001b[39;49m\u001b[43mimport_module\u001b[49m\u001b[43m(\u001b[49m\u001b[38;5;28;43mself\u001b[39;49m\u001b[38;5;241;43m.\u001b[39;49m\u001b[38;5;18;43m__name__\u001b[39;49m\u001b[43m)\u001b[49m\n\u001b[1;32m     41\u001b[0m \u001b[38;5;28;01mif\u001b[39;00m \u001b[38;5;28mself\u001b[39m\u001b[38;5;241m.\u001b[39m_parent_module_globals \u001b[38;5;129;01mis\u001b[39;00m \u001b[38;5;129;01mnot\u001b[39;00m \u001b[38;5;28;01mNone\u001b[39;00m:\n\u001b[1;32m     42\u001b[0m   \u001b[38;5;28mself\u001b[39m\u001b[38;5;241m.\u001b[39m_parent_module_globals[\u001b[38;5;28mself\u001b[39m\u001b[38;5;241m.\u001b[39m_local_name] \u001b[38;5;241m=\u001b[39m module\n",
      "File \u001b[0;32m/usr/local/lib/python3.12/importlib/__init__.py:90\u001b[0m, in \u001b[0;36mimport_module\u001b[0;34m(name, package)\u001b[0m\n\u001b[1;32m     88\u001b[0m             \u001b[38;5;28;01mbreak\u001b[39;00m\n\u001b[1;32m     89\u001b[0m         level \u001b[38;5;241m+\u001b[39m\u001b[38;5;241m=\u001b[39m \u001b[38;5;241m1\u001b[39m\n\u001b[0;32m---> 90\u001b[0m \u001b[38;5;28;01mreturn\u001b[39;00m \u001b[43m_bootstrap\u001b[49m\u001b[38;5;241;43m.\u001b[39;49m\u001b[43m_gcd_import\u001b[49m\u001b[43m(\u001b[49m\u001b[43mname\u001b[49m\u001b[43m[\u001b[49m\u001b[43mlevel\u001b[49m\u001b[43m:\u001b[49m\u001b[43m]\u001b[49m\u001b[43m,\u001b[49m\u001b[43m \u001b[49m\u001b[43mpackage\u001b[49m\u001b[43m,\u001b[49m\u001b[43m \u001b[49m\u001b[43mlevel\u001b[49m\u001b[43m)\u001b[49m\n",
      "File \u001b[0;32m/workspaces/Code/alliander-charge-course/.venv/lib/python3.12/site-packages/tensorflow_probability/python/experimental/__init__.py:31\u001b[0m\n\u001b[1;32m     15\u001b[0m \u001b[38;5;124;03m\"\"\"TensorFlow Probability API-unstable package.\u001b[39;00m\n\u001b[1;32m     16\u001b[0m \n\u001b[1;32m     17\u001b[0m \u001b[38;5;124;03mThis package contains potentially useful code which is under active development\u001b[39;00m\n\u001b[0;32m   (...)\u001b[0m\n\u001b[1;32m     27\u001b[0m \u001b[38;5;124;03mYou are welcome to try any of this out (and tell us how well it works for you!).\u001b[39;00m\n\u001b[1;32m     28\u001b[0m \u001b[38;5;124;03m\"\"\"\u001b[39;00m\n\u001b[1;32m     30\u001b[0m \u001b[38;5;28;01mfrom\u001b[39;00m \u001b[38;5;21;01mtensorflow_probability\u001b[39;00m\u001b[38;5;21;01m.\u001b[39;00m\u001b[38;5;21;01mpython\u001b[39;00m\u001b[38;5;21;01m.\u001b[39;00m\u001b[38;5;21;01mexperimental\u001b[39;00m \u001b[38;5;28;01mimport\u001b[39;00m auto_batching\n\u001b[0;32m---> 31\u001b[0m \u001b[38;5;28;01mfrom\u001b[39;00m \u001b[38;5;21;01mtensorflow_probability\u001b[39;00m\u001b[38;5;21;01m.\u001b[39;00m\u001b[38;5;21;01mpython\u001b[39;00m\u001b[38;5;21;01m.\u001b[39;00m\u001b[38;5;21;01mexperimental\u001b[39;00m \u001b[38;5;28;01mimport\u001b[39;00m bijectors\n\u001b[1;32m     32\u001b[0m \u001b[38;5;28;01mfrom\u001b[39;00m \u001b[38;5;21;01mtensorflow_probability\u001b[39;00m\u001b[38;5;21;01m.\u001b[39;00m\u001b[38;5;21;01mpython\u001b[39;00m\u001b[38;5;21;01m.\u001b[39;00m\u001b[38;5;21;01mexperimental\u001b[39;00m \u001b[38;5;28;01mimport\u001b[39;00m distribute\n\u001b[1;32m     33\u001b[0m \u001b[38;5;28;01mfrom\u001b[39;00m \u001b[38;5;21;01mtensorflow_probability\u001b[39;00m\u001b[38;5;21;01m.\u001b[39;00m\u001b[38;5;21;01mpython\u001b[39;00m\u001b[38;5;21;01m.\u001b[39;00m\u001b[38;5;21;01mexperimental\u001b[39;00m \u001b[38;5;28;01mimport\u001b[39;00m distributions\n",
      "File \u001b[0;32m/workspaces/Code/alliander-charge-course/.venv/lib/python3.12/site-packages/tensorflow_probability/python/experimental/bijectors/__init__.py:17\u001b[0m\n\u001b[1;32m      1\u001b[0m \u001b[38;5;66;03m# Copyright 2020 The TensorFlow Probability Authors.\u001b[39;00m\n\u001b[1;32m      2\u001b[0m \u001b[38;5;66;03m#\u001b[39;00m\n\u001b[1;32m      3\u001b[0m \u001b[38;5;66;03m# Licensed under the Apache License, Version 2.0 (the \"License\");\u001b[39;00m\n\u001b[0;32m   (...)\u001b[0m\n\u001b[1;32m     13\u001b[0m \u001b[38;5;66;03m# limitations under the License.\u001b[39;00m\n\u001b[1;32m     14\u001b[0m \u001b[38;5;66;03m# ============================================================================\u001b[39;00m\n\u001b[1;32m     15\u001b[0m \u001b[38;5;124;03m\"\"\"TensorFlow Probability experimental bijectors package.\"\"\"\u001b[39;00m\n\u001b[0;32m---> 17\u001b[0m \u001b[38;5;28;01mfrom\u001b[39;00m \u001b[38;5;21;01mtensorflow_probability\u001b[39;00m\u001b[38;5;21;01m.\u001b[39;00m\u001b[38;5;21;01mpython\u001b[39;00m\u001b[38;5;21;01m.\u001b[39;00m\u001b[38;5;21;01mbijectors\u001b[39;00m\u001b[38;5;21;01m.\u001b[39;00m\u001b[38;5;21;01mldj_ratio\u001b[39;00m \u001b[38;5;28;01mimport\u001b[39;00m forward_log_det_jacobian_ratio\n\u001b[1;32m     18\u001b[0m \u001b[38;5;28;01mfrom\u001b[39;00m \u001b[38;5;21;01mtensorflow_probability\u001b[39;00m\u001b[38;5;21;01m.\u001b[39;00m\u001b[38;5;21;01mpython\u001b[39;00m\u001b[38;5;21;01m.\u001b[39;00m\u001b[38;5;21;01mbijectors\u001b[39;00m\u001b[38;5;21;01m.\u001b[39;00m\u001b[38;5;21;01mldj_ratio\u001b[39;00m \u001b[38;5;28;01mimport\u001b[39;00m inverse_log_det_jacobian_ratio\n\u001b[1;32m     19\u001b[0m \u001b[38;5;28;01mfrom\u001b[39;00m \u001b[38;5;21;01mtensorflow_probability\u001b[39;00m\u001b[38;5;21;01m.\u001b[39;00m\u001b[38;5;21;01mpython\u001b[39;00m\u001b[38;5;21;01m.\u001b[39;00m\u001b[38;5;21;01mexperimental\u001b[39;00m\u001b[38;5;21;01m.\u001b[39;00m\u001b[38;5;21;01mbijectors\u001b[39;00m\u001b[38;5;21;01m.\u001b[39;00m\u001b[38;5;21;01mdistribution_bijectors\u001b[39;00m \u001b[38;5;28;01mimport\u001b[39;00m make_distribution_bijector\n",
      "File \u001b[0;32m/workspaces/Code/alliander-charge-course/.venv/lib/python3.12/site-packages/tensorflow_probability/python/bijectors/__init__.py:19\u001b[0m\n\u001b[1;32m     15\u001b[0m \u001b[38;5;124;03m\"\"\"Bijective transformations.\"\"\"\u001b[39;00m\n\u001b[1;32m     17\u001b[0m \u001b[38;5;66;03m# pylint: disable=unused-import,wildcard-import,line-too-long,g-importing-member\u001b[39;00m\n\u001b[0;32m---> 19\u001b[0m \u001b[38;5;28;01mfrom\u001b[39;00m \u001b[38;5;21;01mtensorflow_probability\u001b[39;00m\u001b[38;5;21;01m.\u001b[39;00m\u001b[38;5;21;01mpython\u001b[39;00m\u001b[38;5;21;01m.\u001b[39;00m\u001b[38;5;21;01mbijectors\u001b[39;00m\u001b[38;5;21;01m.\u001b[39;00m\u001b[38;5;21;01mabsolute_value\u001b[39;00m \u001b[38;5;28;01mimport\u001b[39;00m AbsoluteValue\n\u001b[1;32m     20\u001b[0m \u001b[38;5;28;01mfrom\u001b[39;00m \u001b[38;5;21;01mtensorflow_probability\u001b[39;00m\u001b[38;5;21;01m.\u001b[39;00m\u001b[38;5;21;01mpython\u001b[39;00m\u001b[38;5;21;01m.\u001b[39;00m\u001b[38;5;21;01mbijectors\u001b[39;00m\u001b[38;5;21;01m.\u001b[39;00m\u001b[38;5;21;01mascending\u001b[39;00m \u001b[38;5;28;01mimport\u001b[39;00m Ascending\n\u001b[1;32m     21\u001b[0m \u001b[38;5;28;01mfrom\u001b[39;00m \u001b[38;5;21;01mtensorflow_probability\u001b[39;00m\u001b[38;5;21;01m.\u001b[39;00m\u001b[38;5;21;01mpython\u001b[39;00m\u001b[38;5;21;01m.\u001b[39;00m\u001b[38;5;21;01mbijectors\u001b[39;00m\u001b[38;5;21;01m.\u001b[39;00m\u001b[38;5;21;01mbatch_normalization\u001b[39;00m \u001b[38;5;28;01mimport\u001b[39;00m BatchNormalization\n",
      "File \u001b[0;32m/workspaces/Code/alliander-charge-course/.venv/lib/python3.12/site-packages/tensorflow_probability/python/bijectors/absolute_value.py:19\u001b[0m\n\u001b[1;32m     15\u001b[0m \u001b[38;5;124;03m\"\"\"AbsoluteValue bijector.\"\"\"\u001b[39;00m\n\u001b[1;32m     17\u001b[0m \u001b[38;5;28;01mimport\u001b[39;00m \u001b[38;5;21;01mtensorflow\u001b[39;00m\u001b[38;5;21;01m.\u001b[39;00m\u001b[38;5;21;01mcompat\u001b[39;00m\u001b[38;5;21;01m.\u001b[39;00m\u001b[38;5;21;01mv2\u001b[39;00m \u001b[38;5;28;01mas\u001b[39;00m \u001b[38;5;21;01mtf\u001b[39;00m\n\u001b[0;32m---> 19\u001b[0m \u001b[38;5;28;01mfrom\u001b[39;00m \u001b[38;5;21;01mtensorflow_probability\u001b[39;00m\u001b[38;5;21;01m.\u001b[39;00m\u001b[38;5;21;01mpython\u001b[39;00m\u001b[38;5;21;01m.\u001b[39;00m\u001b[38;5;21;01mbijectors\u001b[39;00m \u001b[38;5;28;01mimport\u001b[39;00m bijector\n\u001b[1;32m     20\u001b[0m \u001b[38;5;28;01mfrom\u001b[39;00m \u001b[38;5;21;01mtensorflow_probability\u001b[39;00m\u001b[38;5;21;01m.\u001b[39;00m\u001b[38;5;21;01mpython\u001b[39;00m\u001b[38;5;21;01m.\u001b[39;00m\u001b[38;5;21;01minternal\u001b[39;00m \u001b[38;5;28;01mimport\u001b[39;00m assert_util\n\u001b[1;32m     21\u001b[0m \u001b[38;5;28;01mfrom\u001b[39;00m \u001b[38;5;21;01mtensorflow_probability\u001b[39;00m\u001b[38;5;21;01m.\u001b[39;00m\u001b[38;5;21;01mpython\u001b[39;00m\u001b[38;5;21;01m.\u001b[39;00m\u001b[38;5;21;01minternal\u001b[39;00m \u001b[38;5;28;01mimport\u001b[39;00m dtype_util\n",
      "File \u001b[0;32m/workspaces/Code/alliander-charge-course/.venv/lib/python3.12/site-packages/tensorflow_probability/python/bijectors/bijector.py:26\u001b[0m\n\u001b[1;32m     24\u001b[0m \u001b[38;5;28;01mfrom\u001b[39;00m \u001b[38;5;21;01mtensorflow_probability\u001b[39;00m\u001b[38;5;21;01m.\u001b[39;00m\u001b[38;5;21;01mpython\u001b[39;00m\u001b[38;5;21;01m.\u001b[39;00m\u001b[38;5;21;01minternal\u001b[39;00m \u001b[38;5;28;01mimport\u001b[39;00m assert_util\n\u001b[1;32m     25\u001b[0m \u001b[38;5;28;01mfrom\u001b[39;00m \u001b[38;5;21;01mtensorflow_probability\u001b[39;00m\u001b[38;5;21;01m.\u001b[39;00m\u001b[38;5;21;01mpython\u001b[39;00m\u001b[38;5;21;01m.\u001b[39;00m\u001b[38;5;21;01minternal\u001b[39;00m \u001b[38;5;28;01mimport\u001b[39;00m auto_composite_tensor\n\u001b[0;32m---> 26\u001b[0m \u001b[38;5;28;01mfrom\u001b[39;00m \u001b[38;5;21;01mtensorflow_probability\u001b[39;00m\u001b[38;5;21;01m.\u001b[39;00m\u001b[38;5;21;01mpython\u001b[39;00m\u001b[38;5;21;01m.\u001b[39;00m\u001b[38;5;21;01minternal\u001b[39;00m \u001b[38;5;28;01mimport\u001b[39;00m batch_shape_lib\n\u001b[1;32m     27\u001b[0m \u001b[38;5;28;01mfrom\u001b[39;00m \u001b[38;5;21;01mtensorflow_probability\u001b[39;00m\u001b[38;5;21;01m.\u001b[39;00m\u001b[38;5;21;01mpython\u001b[39;00m\u001b[38;5;21;01m.\u001b[39;00m\u001b[38;5;21;01minternal\u001b[39;00m \u001b[38;5;28;01mimport\u001b[39;00m cache_util\n\u001b[1;32m     28\u001b[0m \u001b[38;5;28;01mfrom\u001b[39;00m \u001b[38;5;21;01mtensorflow_probability\u001b[39;00m\u001b[38;5;21;01m.\u001b[39;00m\u001b[38;5;21;01mpython\u001b[39;00m\u001b[38;5;21;01m.\u001b[39;00m\u001b[38;5;21;01minternal\u001b[39;00m \u001b[38;5;28;01mimport\u001b[39;00m dtype_util\n",
      "File \u001b[0;32m/workspaces/Code/alliander-charge-course/.venv/lib/python3.12/site-packages/tensorflow_probability/python/internal/batch_shape_lib.py:23\u001b[0m\n\u001b[1;32m     20\u001b[0m \u001b[38;5;28;01mimport\u001b[39;00m \u001b[38;5;21;01mnumpy\u001b[39;00m \u001b[38;5;28;01mas\u001b[39;00m \u001b[38;5;21;01mnp\u001b[39;00m\n\u001b[1;32m     21\u001b[0m \u001b[38;5;28;01mimport\u001b[39;00m \u001b[38;5;21;01mtensorflow\u001b[39;00m\u001b[38;5;21;01m.\u001b[39;00m\u001b[38;5;21;01mcompat\u001b[39;00m\u001b[38;5;21;01m.\u001b[39;00m\u001b[38;5;21;01mv2\u001b[39;00m \u001b[38;5;28;01mas\u001b[39;00m \u001b[38;5;21;01mtf\u001b[39;00m\n\u001b[0;32m---> 23\u001b[0m \u001b[38;5;28;01mfrom\u001b[39;00m \u001b[38;5;21;01mtensorflow_probability\u001b[39;00m\u001b[38;5;21;01m.\u001b[39;00m\u001b[38;5;21;01mpython\u001b[39;00m\u001b[38;5;21;01m.\u001b[39;00m\u001b[38;5;21;01minternal\u001b[39;00m \u001b[38;5;28;01mimport\u001b[39;00m prefer_static \u001b[38;5;28;01mas\u001b[39;00m ps\n\u001b[1;32m     24\u001b[0m \u001b[38;5;28;01mfrom\u001b[39;00m \u001b[38;5;21;01mtensorflow_probability\u001b[39;00m\u001b[38;5;21;01m.\u001b[39;00m\u001b[38;5;21;01mpython\u001b[39;00m\u001b[38;5;21;01m.\u001b[39;00m\u001b[38;5;21;01minternal\u001b[39;00m \u001b[38;5;28;01mimport\u001b[39;00m tensor_util\n\u001b[1;32m     25\u001b[0m \u001b[38;5;28;01mfrom\u001b[39;00m \u001b[38;5;21;01mtensorflow_probability\u001b[39;00m\u001b[38;5;21;01m.\u001b[39;00m\u001b[38;5;21;01mpython\u001b[39;00m\u001b[38;5;21;01m.\u001b[39;00m\u001b[38;5;21;01minternal\u001b[39;00m \u001b[38;5;28;01mimport\u001b[39;00m tensorshape_util\n",
      "File \u001b[0;32m/workspaces/Code/alliander-charge-course/.venv/lib/python3.12/site-packages/tensorflow_probability/python/internal/prefer_static.py:344\u001b[0m\n\u001b[1;32m    342\u001b[0m     \u001b[38;5;28;01mreturn\u001b[39;00m np\u001b[38;5;241m.\u001b[39mones(s_, dtype_util\u001b[38;5;241m.\u001b[39mas_numpy_dtype(dtype \u001b[38;5;129;01mor\u001b[39;00m \u001b[38;5;28minput\u001b[39m\u001b[38;5;241m.\u001b[39mdtype))\n\u001b[1;32m    343\u001b[0m   \u001b[38;5;28;01mreturn\u001b[39;00m tf\u001b[38;5;241m.\u001b[39mones(s, dtype \u001b[38;5;129;01mor\u001b[39;00m \u001b[38;5;28minput\u001b[39m\u001b[38;5;241m.\u001b[39mdtype, name)\n\u001b[0;32m--> 344\u001b[0m ones_like \u001b[38;5;241m=\u001b[39m \u001b[43m_copy_docstring\u001b[49m\u001b[43m(\u001b[49m\u001b[43mtf\u001b[49m\u001b[38;5;241;43m.\u001b[39;49m\u001b[43mones_like\u001b[49m\u001b[43m,\u001b[49m\u001b[43m \u001b[49m\u001b[43m_ones_like\u001b[49m\u001b[43m)\u001b[49m\n\u001b[1;32m    347\u001b[0m \u001b[38;5;28;01mdef\u001b[39;00m \u001b[38;5;21m_rank\u001b[39m(\u001b[38;5;28minput\u001b[39m, name\u001b[38;5;241m=\u001b[39m\u001b[38;5;28;01mNone\u001b[39;00m):  \u001b[38;5;66;03m# pylint: disable=redefined-builtin,unused-argument\u001b[39;00m\n\u001b[1;32m    348\u001b[0m   \u001b[38;5;28;01mif\u001b[39;00m \u001b[38;5;129;01mnot\u001b[39;00m \u001b[38;5;28mhasattr\u001b[39m(\u001b[38;5;28minput\u001b[39m, \u001b[38;5;124m'\u001b[39m\u001b[38;5;124mshape\u001b[39m\u001b[38;5;124m'\u001b[39m):\n",
      "File \u001b[0;32m/workspaces/Code/alliander-charge-course/.venv/lib/python3.12/site-packages/tensorflow_probability/python/internal/prefer_static.py:91\u001b[0m, in \u001b[0;36m_copy_docstring\u001b[0;34m(original_fn, new_fn)\u001b[0m\n\u001b[1;32m     89\u001b[0m new_spec \u001b[38;5;241m=\u001b[39m tf_inspect\u001b[38;5;241m.\u001b[39mgetfullargspec(new_fn)\n\u001b[1;32m     90\u001b[0m \u001b[38;5;28;01mif\u001b[39;00m original_spec \u001b[38;5;241m!=\u001b[39m new_spec:\n\u001b[0;32m---> 91\u001b[0m   \u001b[38;5;28;01mraise\u001b[39;00m \u001b[38;5;167;01mValueError\u001b[39;00m(\n\u001b[1;32m     92\u001b[0m       \u001b[38;5;124m'\u001b[39m\u001b[38;5;124mArg specs do not match: original=\u001b[39m\u001b[38;5;132;01m{}\u001b[39;00m\u001b[38;5;124m, new=\u001b[39m\u001b[38;5;132;01m{}\u001b[39;00m\u001b[38;5;124m, fn=\u001b[39m\u001b[38;5;132;01m{}\u001b[39;00m\u001b[38;5;124m'\u001b[39m\u001b[38;5;241m.\u001b[39mformat(\n\u001b[1;32m     93\u001b[0m           original_spec, new_spec, original_fn))\n\u001b[1;32m     94\u001b[0m \u001b[38;5;129m@decorator\u001b[39m\u001b[38;5;241m.\u001b[39mdecorator\n\u001b[1;32m     95\u001b[0m \u001b[38;5;28;01mdef\u001b[39;00m \u001b[38;5;21mwrap\u001b[39m(wrapped_fn, \u001b[38;5;241m*\u001b[39margs, \u001b[38;5;241m*\u001b[39m\u001b[38;5;241m*\u001b[39mkwargs):\n\u001b[1;32m     96\u001b[0m   \u001b[38;5;28;01mdel\u001b[39;00m wrapped_fn\n",
      "\u001b[0;31mValueError\u001b[0m: Arg specs do not match: original=FullArgSpec(args=['input', 'dtype', 'name', 'layout'], varargs=None, varkw=None, defaults=(None, None, None), kwonlyargs=[], kwonlydefaults=None, annotations={}), new=FullArgSpec(args=['input', 'dtype', 'name'], varargs=None, varkw=None, defaults=(None, None), kwonlyargs=[], kwonlydefaults=None, annotations={}), fn=<function ones_like_v2 at 0x7fc6fa1e7d80>"
     ]
    }
   ],
   "source": [
    "import pandas as pd\n",
    "import matplotlib.pyplot as plt\n",
    "from pathlib import Path\n",
    "import gpflow"
   ]
  },
  {
   "cell_type": "code",
   "execution_count": null,
   "metadata": {},
   "outputs": [],
   "source": [
    "change_points = {\n",
    "                \"timeseries_01\": \"2024-08-30 07:50:00\",\n",
    "                \"timeseries_02\": \"2024-07-23 09:00:00\",\n",
    "                \"timeseries_03\": \"2024-06-20 08:05:00\",\n",
    "                \"timeseries_04\": \"2024-09-05 08:30:00\",\n",
    "                \"timeseries_05\": \"2024-09-02 17:00:00\",\n",
    "                \"timeseries_06\": \"2024-09-05 08:30:00\",\n",
    "                \"timeseries_07\": \"2023-04-19 12:05:00\",\n",
    "                \"timeseries_08\": \"2023-04-19 12:05:00\",\n",
    "                \"timeseries_09\": \"2023-06-14 17:45:00\",\n",
    "                \"timeseries_10\": \"2023-05-22 02:30:00\",\n",
    "                \"timeseries_11\": \"2023-06-12 06:55:00\",\n",
    "                \"timeseries_12\": \"2023-03-17 15:20:00\",\n",
    "                \"timeseries_13\": \"2023-06-06 10:40:00\",\n",
    "                \"timeseries_14\": \"2023-09-28 07:35:00\",\n",
    "                \"timeseries_15\": \"2023-07-14 15:30:00\",\n",
    "                \"timeseries_16\": \"2023-06-27 08:15:00\",\n",
    "                \"timeseries_17\": \"2022-12-06 08:25:00\",\n",
    "                \"timeseries_18\": \"2021-11-29 11:00:00\",\n",
    "                \"timeseries_19\": \"2021-09-17 07:10:00\",\n",
    "                \"timeseries_20\": \"2022-01-03 15:15:00\"\n",
    "                }\n",
    "\n"
   ]
  },
  {
   "cell_type": "code",
   "execution_count": null,
   "metadata": {},
   "outputs": [],
   "source": [
    "folder_name = './CHARGE_timeseries/'\n",
    "\n",
    "folder_path = Path(folder_name)\n",
    "\n",
    "for file in folder_path.iterdir():\n",
    "    if file.is_file():\n",
    "\n",
    "        timeseries_nr = file.name[:-5] # remove .xlsx\n",
    "\n",
    "        data = pd.read_excel(file)\n",
    "\n",
    "\n",
    "        fig = plt.figure(figsize=[12,7])\n",
    "\n",
    "        plt.plot(pd.to_datetime(data.TIMESTAMP), data.VALUE)\n",
    "        plt.grid()\n",
    "        plt.axhline(0, color = \"black\")\n",
    "        plt.title(timeseries_nr)\n",
    "        plt.ylabel(\"Active Power [kW]\")\n",
    "        plt.xlabel(\"Time\")\n",
    "        plt.axvline(pd.to_datetime(change_points[timeseries_nr]), linestyle = \"--\", color = \"red\")\n",
    "        plt.savefig(\"./figures/ChangePoint_ts_\"+str(timeseries_nr)+'.png')\n"
   ]
  },
  {
   "cell_type": "code",
   "execution_count": null,
   "metadata": {},
   "outputs": [],
   "source": [
    "all_timeseries_file = [ file for file in folder_path.iterdir() if file.is_file() ]\n",
    "\n",
    "all_timeseries_df = [pd.read_excel(file) for file in all_timeseries_file]"
   ]
  },
  {
   "cell_type": "code",
   "execution_count": null,
   "metadata": {},
   "outputs": [],
   "source": [
    "# Add column with if there is a change point or not\n",
    "for i, df in enumerate(all_timeseries_df):\n",
    "    all_timeseries_df[i][\"ChangePoint\"] = 0\n",
    "    if i+1 <= 9:\n",
    "        i_str = \"0\"+str(i+1)\n",
    "    else:\n",
    "        i_str = str(i+1)\n",
    "    all_timeseries_df[i][\"change_point\"] = 0\n",
    "    all_timeseries_df[i].loc[all_timeseries_df[i].TIMESTAMP == change_points[\"timeseries_\" + i_str], \"change_point\"] = 1"
   ]
  },
  {
   "cell_type": "code",
   "execution_count": null,
   "metadata": {},
   "outputs": [],
   "source": [
    "# Create a train, val test split\n",
    "import numpy as np\n",
    "all_idx = list(range(len(all_timeseries_df)))\n",
    "\n",
    "# Shuffle\n",
    "np.random.shuffle(all_idx)\n",
    "\n",
    "train_idx = all_idx[:int(0.7*len(all_timeseries_df))]\n",
    "val_idx = all_idx[int(0.7*len(all_timeseries_df)):int(0.85*len(all_timeseries_df))]\n",
    "test_idx = all_idx[int(0.85*len(all_timeseries_df)):]\n",
    "\n"
   ]
  },
  {
   "cell_type": "code",
   "execution_count": null,
   "metadata": {},
   "outputs": [],
   "source": [
    "train_dfs = [all_timeseries_df[i] for i in train_idx]\n",
    "val_dfs = [all_timeseries_df[i] for i in val_idx]\n",
    "test_dfs = [all_timeseries_df[i] for i in test_idx]"
   ]
  },
  {
   "cell_type": "code",
   "execution_count": null,
   "metadata": {},
   "outputs": [],
   "source": [
    "window_size = 16 # Corresponds to 4 hour\n",
    "step_size = 4\n",
    "\n",
    "\n",
    "    "
   ]
  },
  {
   "cell_type": "code",
   "execution_count": null,
   "metadata": {},
   "outputs": [],
   "source": [
    "# Create a final dataset:\n",
    "\n",
    "def create_dataset(dfs, window_size, step_size):\n",
    "    final_dfs = []\n",
    "    for df in dfs:\n",
    "\n",
    "        for i in range(0, len(df)-window_size, step_size):\n",
    "            values = df.VALUE[i:i+window_size].values\n",
    "            change_point = max(df.iloc[i: i+window_size][\"change_point\"])\n",
    "            final_dfs.append({\"values\": values, \"change_point\": change_point})\n",
    "\n",
    "    final_dfs = pd.DataFrame(final_dfs)\n",
    "    return final_dfs\n",
    "\n",
    "\n",
    "train_dataset = create_dataset(train_dfs, window_size, step_size)\n",
    "        \n",
    "        "
   ]
  },
  {
   "cell_type": "code",
   "execution_count": null,
   "metadata": {},
   "outputs": [
    {
     "data": {
      "text/plain": [
       "change_point\n",
       "0    55733\n",
       "1       56\n",
       "Name: count, dtype: int64"
      ]
     },
     "execution_count": 31,
     "metadata": {},
     "output_type": "execute_result"
    }
   ],
   "source": [
    "train_dataset['change_point'].value_counts()"
   ]
  },
  {
   "cell_type": "code",
   "execution_count": null,
   "metadata": {},
   "outputs": [],
   "source": []
  },
  {
   "cell_type": "code",
   "execution_count": null,
   "metadata": {},
   "outputs": [],
   "source": [
    "class RollingMeanDetectionModel():\n",
    "\n",
    "    def __init__(self, window_size: int = 4, std_multiplier: float = 1.5):\n",
    "        self.window_size = window_size\n",
    "        self.std_multiplier = std_multiplier\n",
    "\n",
    "\n",
    "    def predict(self, x: list[list[float]]) -> list[float]:\n",
    "\n",
    "        predictions = []\n",
    "        \n",
    "        for row in x:\n",
    "            first_window = row[:self.window_size]\n",
    "            mean = np.mean(first_window)\n",
    "            std = np.std(first_window)\n",
    "\n",
    "            last_window = row[-self.window_size:]\n",
    "            last_mean = np.mean(last_window)\n",
    "\n",
    "            if abs(last_mean - mean) > self.std_multiplier * std:\n",
    "                predictions.append(1)\n",
    "            else:\n",
    "                predictions.append(0)\n",
    "\n",
    "        return predictions\n"
   ]
  },
  {
   "cell_type": "code",
   "execution_count": null,
   "metadata": {},
   "outputs": [],
   "source": [
    "model = RollingMeanDetectionModel(window_size=4)\n",
    "\n",
    "predictions = model.predict(train_dataset[\"values\"].values)\n"
   ]
  },
  {
   "cell_type": "code",
   "execution_count": null,
   "metadata": {},
   "outputs": [
    {
     "data": {
      "text/plain": [
       "np.int64(31369)"
      ]
     },
     "execution_count": 35,
     "metadata": {},
     "output_type": "execute_result"
    }
   ],
   "source": [
    "# Check if there are any positive predictions\n",
    "\n",
    "np.sum(predictions)"
   ]
  },
  {
   "cell_type": "code",
   "execution_count": null,
   "metadata": {},
   "outputs": [
    {
     "name": "stdout",
     "output_type": "stream",
     "text": [
      "(0.43825843804334186, np.float64(0.0027366746221161495), np.float64(0.0013707800694953618), np.float64(0.7678571428571429))\n"
     ]
    }
   ],
   "source": [
    "change_points_training = train_dataset[\"change_point\"].values\n",
    "\n",
    "from sklearn.metrics import accuracy_score, f1_score, precision_score, recall_score\n",
    "\n",
    "def evaluate_model(predictions, change_points_training):\n",
    "    accuracy = accuracy_score(change_points_training, predictions)\n",
    "    f1 = f1_score(change_points_training, predictions)\n",
    "    precision = precision_score(change_points_training, predictions)\n",
    "    recall = recall_score(change_points_training, predictions)\n",
    "\n",
    "    return accuracy, f1, precision, recall\n",
    "\n",
    "print(evaluate_model(predictions, change_points_training))\n"
   ]
  },
  {
   "cell_type": "code",
   "execution_count": null,
   "metadata": {},
   "outputs": [
    {
     "name": "stdout",
     "output_type": "stream",
     "text": [
      "Window size: 2, std_multiplier: 0.5, accuracy: 0.1769703705031458, f1: 0.0024333014686712434, precision: 0.0012181327764726356, recall: 1.0\n",
      "Window size: 2, std_multiplier: 1.5, accuracy: 0.29351664306583736, f1: 0.0025307485954345296, precision: 0.001267170155608495, recall: 0.8928571428571429\n",
      "Window size: 2, std_multiplier: 2, accuracy: 0.3396726953342057, f1: 0.0026531662019113624, precision: 0.0013285973807651637, recall: 0.875\n",
      "Window size: 2, std_multiplier: 2.5, accuracy: 0.3721163670257578, f1: 0.0027898767329974095, precision: 0.0013971657494796271, recall: 0.875\n",
      "Window size: 4, std_multiplier: 0.5, accuracy: 0.22896986861209198, f1: 0.0025507246376811595, precision: 0.0012770205948594115, recall: 0.9821428571428571\n",
      "Window size: 4, std_multiplier: 1.5, accuracy: 0.43825843804334186, f1: 0.0027366746221161495, precision: 0.0013707800694953618, recall: 0.7678571428571429\n",
      "Window size: 4, std_multiplier: 2, accuracy: 0.5084873362132319, f1: 0.003126476896789908, precision: 0.0015664274525518196, recall: 0.7678571428571429\n",
      "Window size: 4, std_multiplier: 2.5, accuracy: 0.5606840058075965, f1: 0.0034156060667669664, precision: 0.0017117006969067123, recall: 0.75\n",
      "Window size: 8, std_multiplier: 0.5, accuracy: 0.32307444119808565, f1: 0.002535590713399012, precision: 0.0012696733236344398, recall: 0.8571428571428571\n",
      "Window size: 8, std_multiplier: 1.5, accuracy: 0.6270053236301063, f1: 0.0033526509890320416, precision: 0.0016808336935119818, recall: 0.625\n",
      "Window size: 8, std_multiplier: 2, accuracy: 0.7152843750560146, f1: 0.0035131744040150566, precision: 0.0017627801561319568, recall: 0.5\n",
      "Window size: 8, std_multiplier: 2.5, accuracy: 0.77920378569252, f1: 0.004042690815006468, precision: 0.0020305393112410655, recall: 0.44642857142857145\n",
      "Window size: 12, std_multiplier: 0.5, accuracy: 0.5594113534926239, f1: 0.003405773597145637, precision: 0.0017067620286085826, recall: 0.75\n",
      "Window size: 12, std_multiplier: 1.5, accuracy: 0.9550449013246339, f1: 0.006339144215530904, precision: 0.0032414910858995136, recall: 0.14285714285714285\n",
      "Window size: 12, std_multiplier: 2, accuracy: 0.9685063363745541, f1: 0.009024252679075015, precision: 0.004659289458357601, recall: 0.14285714285714285\n",
      "Window size: 12, std_multiplier: 2.5, accuracy: 0.9747441251859685, f1: 0.009838369641602248, precision: 0.005120702267739576, recall: 0.125\n"
     ]
    }
   ],
   "source": [
    "hyperparameters = {\n",
    "    \"window_size\": [2, 4, 8, 12],\n",
    "    \"std_multiplier\": [0.5, 1.5, 2, 2.5]\n",
    "}\n",
    "\n",
    "scores = []\n",
    "\n",
    "for window_size in hyperparameters[\"window_size\"]:\n",
    "    for std_multiplier in hyperparameters[\"std_multiplier\"]:\n",
    "        model = RollingMeanDetectionModel(window_size=window_size, std_multiplier=std_multiplier)\n",
    "        predictions = model.predict(train_dataset[\"values\"].values)\n",
    "        accuracy, f1, precision, recall = evaluate_model(predictions, change_points_training)\n",
    "        scores.append({\"window_size\": window_size, \"std_multiplier\": std_multiplier, \"accuracy\": accuracy, \"f1\": f1, \"precision\": precision, \"recall\": recall})\n",
    "\n",
    "        print(f\"Window size: {window_size}, std_multiplier: {std_multiplier}, accuracy: {accuracy}, f1: {f1}, precision: {precision}, recall: {recall}\")"
   ]
  },
  {
   "cell_type": "code",
   "execution_count": null,
   "metadata": {},
   "outputs": [
    {
     "data": {
      "text/plain": [
       "<Axes: >"
      ]
     },
     "execution_count": 38,
     "metadata": {},
     "output_type": "execute_result"
    },
    {
     "data": {
      "image/png": "[encoded data removed]",
      "text/plain": [
       "<Figure size 640x480 with 1 Axes>"
      ]
     },
     "metadata": {},
     "output_type": "display_data"
    }
   ],
   "source": [
    "# Plot the accuracy, f1, precision, recall for each hyperparameter combination\n",
    "\n",
    "scores_df = pd.DataFrame(scores)\n",
    "\n",
    "\n",
    "scores_df[\"recall\"].plot()"
   ]
  },
  {
   "cell_type": "code",
   "execution_count": null,
   "metadata": {},
   "outputs": [
    {
     "data": {
      "text/plain": [
       "<Axes: >"
      ]
     },
     "execution_count": 39,
     "metadata": {},
     "output_type": "execute_result"
    },
    {
     "data": {
      "image/png": "[encoded data removed]",
      "text/plain": [
       "<Figure size 640x480 with 1 Axes>"
      ]
     },
     "metadata": {},
     "output_type": "display_data"
    }
   ],
   "source": [
    "scores_df[\"accuracy\"].plot()"
   ]
  },
  {
   "cell_type": "code",
   "execution_count": null,
   "metadata": {},
   "outputs": [
    {
     "ename": "AttributeError",
     "evalue": "module 'tensorflow_probability.python.layers' has no attribute 'internal'",
     "output_type": "error",
     "traceback": [
      "\u001b[0;31m---------------------------------------------------------------------------\u001b[0m",
      "\u001b[0;31mAttributeError\u001b[0m                            Traceback (most recent call last)",
      "Cell \u001b[0;32mIn[51], line 1\u001b[0m\n\u001b[0;32m----> 1\u001b[0m \u001b[38;5;28;01mimport\u001b[39;00m \u001b[38;5;21;01mgpflow\u001b[39;00m\n\u001b[1;32m      2\u001b[0m \u001b[38;5;28;01mfrom\u001b[39;00m \u001b[38;5;21;01msklearn\u001b[39;00m\u001b[38;5;21;01m.\u001b[39;00m\u001b[38;5;21;01mpreprocessing\u001b[39;00m \u001b[38;5;28;01mimport\u001b[39;00m MinMaxScaler\n\u001b[1;32m      4\u001b[0m \u001b[38;5;28;01mclass\u001b[39;00m \u001b[38;5;21;01mGPModel\u001b[39;00m:\n",
      "File \u001b[0;32m/workspaces/Code/alliander-charge-course/.venv/lib/python3.12/site-packages/gpflow/__init__.py:17\u001b[0m\n\u001b[1;32m      1\u001b[0m \u001b[38;5;66;03m# Copyright 2016-2020 The GPflow Contributors. All Rights Reserved.\u001b[39;00m\n\u001b[1;32m      2\u001b[0m \u001b[38;5;66;03m#\u001b[39;00m\n\u001b[1;32m      3\u001b[0m \u001b[38;5;66;03m# Licensed under the Apache License, Version 2.0 (the \"License\");\u001b[39;00m\n\u001b[0;32m   (...)\u001b[0m\n\u001b[1;32m     14\u001b[0m \n\u001b[1;32m     15\u001b[0m \u001b[38;5;66;03m# flake8: noqa\u001b[39;00m\n\u001b[0;32m---> 17\u001b[0m \u001b[38;5;28;01mfrom\u001b[39;00m \u001b[38;5;21;01m.\u001b[39;00m \u001b[38;5;28;01mimport\u001b[39;00m (\n\u001b[1;32m     18\u001b[0m     conditionals,\n\u001b[1;32m     19\u001b[0m     config,\n\u001b[1;32m     20\u001b[0m     covariances,\n\u001b[1;32m     21\u001b[0m     expectations,\n\u001b[1;32m     22\u001b[0m     experimental,\n\u001b[1;32m     23\u001b[0m     functions,\n\u001b[1;32m     24\u001b[0m     inducing_variables,\n\u001b[1;32m     25\u001b[0m     kernels,\n\u001b[1;32m     26\u001b[0m     kullback_leiblers,\n\u001b[1;32m     27\u001b[0m     likelihoods,\n\u001b[1;32m     28\u001b[0m     logdensities,\n\u001b[1;32m     29\u001b[0m     mean_functions,\n\u001b[1;32m     30\u001b[0m     models,\n\u001b[1;32m     31\u001b[0m     monitor,\n\u001b[1;32m     32\u001b[0m     optimizers,\n\u001b[1;32m     33\u001b[0m     posteriors,\n\u001b[1;32m     34\u001b[0m     probability_distributions,\n\u001b[1;32m     35\u001b[0m     quadrature,\n\u001b[1;32m     36\u001b[0m     utilities,\n\u001b[1;32m     37\u001b[0m )\n\u001b[1;32m     38\u001b[0m \u001b[38;5;28;01mfrom\u001b[39;00m \u001b[38;5;21;01m.\u001b[39;00m\u001b[38;5;21;01mbase\u001b[39;00m \u001b[38;5;28;01mimport\u001b[39;00m Module, Parameter\n\u001b[1;32m     39\u001b[0m \u001b[38;5;28;01mfrom\u001b[39;00m \u001b[38;5;21;01m.\u001b[39;00m\u001b[38;5;21;01mconfig\u001b[39;00m \u001b[38;5;28;01mimport\u001b[39;00m default_float, default_int, default_jitter\n",
      "File \u001b[0;32m/workspaces/Code/alliander-charge-course/.venv/lib/python3.12/site-packages/gpflow/conditionals/__init__.py:1\u001b[0m\n\u001b[0;32m----> 1\u001b[0m \u001b[38;5;28;01mfrom\u001b[39;00m \u001b[38;5;21;01m.\u001b[39;00m \u001b[38;5;28;01mimport\u001b[39;00m conditionals, multioutput, sample_conditionals\n\u001b[1;32m      2\u001b[0m \u001b[38;5;28;01mfrom\u001b[39;00m \u001b[38;5;21;01m.\u001b[39;00m\u001b[38;5;21;01mdispatch\u001b[39;00m \u001b[38;5;28;01mimport\u001b[39;00m conditional, sample_conditional\n\u001b[1;32m      3\u001b[0m \u001b[38;5;28;01mfrom\u001b[39;00m \u001b[38;5;21;01m.\u001b[39;00m\u001b[38;5;21;01muncertain_conditionals\u001b[39;00m \u001b[38;5;28;01mimport\u001b[39;00m uncertain_conditional\n",
      "File \u001b[0;32m/workspaces/Code/alliander-charge-course/.venv/lib/python3.12/site-packages/gpflow/conditionals/conditionals.py:18\u001b[0m\n\u001b[1;32m     15\u001b[0m \u001b[38;5;28;01mfrom\u001b[39;00m \u001b[38;5;21;01mtyping\u001b[39;00m \u001b[38;5;28;01mimport\u001b[39;00m Optional\n\u001b[1;32m     17\u001b[0m \u001b[38;5;28;01mimport\u001b[39;00m \u001b[38;5;21;01mtensorflow\u001b[39;00m \u001b[38;5;28;01mas\u001b[39;00m \u001b[38;5;21;01mtf\u001b[39;00m\n\u001b[0;32m---> 18\u001b[0m \u001b[38;5;28;01mfrom\u001b[39;00m \u001b[38;5;21;01mcheck_shapes\u001b[39;00m \u001b[38;5;28;01mimport\u001b[39;00m check_shapes\n\u001b[1;32m     20\u001b[0m \u001b[38;5;28;01mfrom\u001b[39;00m \u001b[38;5;21;01m.\u001b[39;00m\u001b[38;5;21;01m.\u001b[39;00m\u001b[38;5;21;01mbase\u001b[39;00m \u001b[38;5;28;01mimport\u001b[39;00m MeanAndVariance\n\u001b[1;32m     21\u001b[0m \u001b[38;5;28;01mfrom\u001b[39;00m \u001b[38;5;21;01m.\u001b[39;00m\u001b[38;5;21;01m.\u001b[39;00m\u001b[38;5;21;01minducing_variables\u001b[39;00m \u001b[38;5;28;01mimport\u001b[39;00m InducingVariables\n",
      "File \u001b[0;32m/workspaces/Code/alliander-charge-course/.venv/lib/python3.12/site-packages/check_shapes/__init__.py:43\u001b[0m\n\u001b[1;32m     40\u001b[0m \u001b[38;5;28;01mfrom\u001b[39;00m \u001b[38;5;21;01m.\u001b[39;00m\u001b[38;5;21;01mshapes\u001b[39;00m \u001b[38;5;28;01mimport\u001b[39;00m get_shape, register_get_shape\n\u001b[1;32m     42\u001b[0m install_tf_integration()\n\u001b[0;32m---> 43\u001b[0m \u001b[43minstall_tfp_integration\u001b[49m\u001b[43m(\u001b[49m\u001b[43m)\u001b[49m\n\u001b[1;32m     44\u001b[0m install_torch_integration()\n\u001b[1;32m     46\u001b[0m __version__ \u001b[38;5;241m=\u001b[39m \u001b[38;5;124m\"\u001b[39m\u001b[38;5;124m1.1.1\u001b[39m\u001b[38;5;124m\"\u001b[39m\n",
      "File \u001b[0;32m/workspaces/Code/alliander-charge-course/.venv/lib/python3.12/site-packages/check_shapes/integration/tfp.py:47\u001b[0m, in \u001b[0;36minstall_tfp_integration\u001b[0;34m()\u001b[0m\n\u001b[1;32m     43\u001b[0m     \u001b[38;5;28;01mreturn\u001b[39;00m \u001b[38;5;28mtuple\u001b[39m(shape)\n\u001b[1;32m     45\u001b[0m \u001b[38;5;66;03m# pylint: disable=protected-access  # To access the _TensorCoercible\u001b[39;00m\n\u001b[0;32m---> 47\u001b[0m \u001b[38;5;129m@register_get_shape\u001b[39m(\u001b[43mtfp\u001b[49m\u001b[38;5;241;43m.\u001b[39;49m\u001b[43mpython\u001b[49m\u001b[38;5;241;43m.\u001b[39;49m\u001b[43mlayers\u001b[49m\u001b[38;5;241;43m.\u001b[39;49m\u001b[43minternal\u001b[49m\u001b[38;5;241m.\u001b[39mdistribution_tensor_coercible\u001b[38;5;241m.\u001b[39m_TensorCoercible)\n\u001b[1;32m     48\u001b[0m \u001b[38;5;28;01mdef\u001b[39;00m \u001b[38;5;21mget_tensor_coercible_shape\u001b[39m(shaped: Any, context: ErrorContext) \u001b[38;5;241m-\u001b[39m\u001b[38;5;241m>\u001b[39m Shape:\n\u001b[1;32m     49\u001b[0m     \u001b[38;5;66;03m# This one is unpleasant. Sometimes the `shape` is a `TensorShape`, but sometimes it's a\u001b[39;00m\n\u001b[1;32m     50\u001b[0m     \u001b[38;5;66;03m# function that returns a `TensorShape`. The version of TensorFlow probability seems to have\u001b[39;00m\n\u001b[1;32m     51\u001b[0m     \u001b[38;5;66;03m# something to do with it, but it also seems to be more complicated...\u001b[39;00m\n\u001b[1;32m     52\u001b[0m     shape \u001b[38;5;241m=\u001b[39m shaped\u001b[38;5;241m.\u001b[39mshape\n\u001b[1;32m     53\u001b[0m     \u001b[38;5;28;01mif\u001b[39;00m \u001b[38;5;129;01mnot\u001b[39;00m shape:\n",
      "\u001b[0;31mAttributeError\u001b[0m: module 'tensorflow_probability.python.layers' has no attribute 'internal'"
     ]
    }
   ],
   "source": [
    "import gpflow\n",
    "from sklearn.preprocessing import MinMaxScaler\n",
    "\n",
    "class GPModel:\n",
    "\n",
    "    def predict(self, x: [float]) -> float:\n",
    "        # Fit model 1\n",
    "        predictions = []\n",
    "        \n",
    "        for row in x:\n",
    "            k = gpflow.kernels.Matern32(lengthscales=0.2)\n",
    "            model = gpflow.models.GPR(\n",
    "                (np.ndarray(range(len(row))), row),\n",
    "                kernel=k,\n",
    "            )\n",
    "\n",
    "            base_k1 = gpflow.kernels.Matern32(lengthscales=0.2)\n",
    "            base_k2 = gpflow.kernels.Matern32(lengthscales=2.0) \n",
    "            k = gpflow.kernels.ChangePoints([base_k1, base_k2], [0.0], steepness=5.0)\n",
    "\n",
    "            model_change_point = gpflow.models.GPR(\n",
    "                (np.ndarray(range(len(row))), row),\n",
    "                kernel=k,\n",
    "            )\n",
    "\n",
    "            opt = gpflow.optimizers.Scipy()\n",
    "\n",
    "            def objective_closure(m):\n",
    "                return m.training_loss()\n",
    "\n",
    "            opt_logs = opt.minimize(objective_closure(model),\n",
    "                                    model.trainable_variables,\n",
    "                                    options=dict(maxiter=100))\n",
    "            \n",
    "            opt_logs_change_point = opt.minimize(objective_closure(model_change_point),\n",
    "                                    model_change_point.trainable_variables,\n",
    "                                    options=dict(maxiter=100))\n",
    "            \n",
    "            if opt_logs_change_point < opt_logs:\n",
    "                predictions.append(1)\n",
    "            else:\n",
    "                predictions.append(0)        \n",
    "\n",
    "        return predictions\n"
   ]
  },
  {
   "cell_type": "code",
   "execution_count": null,
   "metadata": {},
   "outputs": [
    {
     "ename": "NameError",
     "evalue": "name 'gpflow' is not defined",
     "output_type": "error",
     "traceback": [
      "\u001b[0;31m---------------------------------------------------------------------------\u001b[0m",
      "\u001b[0;31mNameError\u001b[0m                                 Traceback (most recent call last)",
      "Cell \u001b[0;32mIn[47], line 3\u001b[0m\n\u001b[1;32m      1\u001b[0m model \u001b[38;5;241m=\u001b[39m GPModel()\n\u001b[0;32m----> 3\u001b[0m predictions \u001b[38;5;241m=\u001b[39m \u001b[43mmodel\u001b[49m\u001b[38;5;241;43m.\u001b[39;49m\u001b[43mpredict\u001b[49m\u001b[43m(\u001b[49m\u001b[43mtrain_dataset\u001b[49m\u001b[43m[\u001b[49m\u001b[38;5;124;43m\"\u001b[39;49m\u001b[38;5;124;43mvalues\u001b[39;49m\u001b[38;5;124;43m\"\u001b[39;49m\u001b[43m]\u001b[49m\u001b[38;5;241;43m.\u001b[39;49m\u001b[43mvalues\u001b[49m\u001b[43m)\u001b[49m\n",
      "Cell \u001b[0;32mIn[46], line 8\u001b[0m, in \u001b[0;36mGPModel.predict\u001b[0;34m(self, x)\u001b[0m\n\u001b[1;32m      5\u001b[0m predictions \u001b[38;5;241m=\u001b[39m []\n\u001b[1;32m      7\u001b[0m \u001b[38;5;28;01mfor\u001b[39;00m row \u001b[38;5;129;01min\u001b[39;00m x:\n\u001b[0;32m----> 8\u001b[0m     k \u001b[38;5;241m=\u001b[39m \u001b[43mgpflow\u001b[49m\u001b[38;5;241m.\u001b[39mkernels\u001b[38;5;241m.\u001b[39mMatern32(lengthscales\u001b[38;5;241m=\u001b[39m\u001b[38;5;241m0.2\u001b[39m)\n\u001b[1;32m      9\u001b[0m     model \u001b[38;5;241m=\u001b[39m gpflow\u001b[38;5;241m.\u001b[39mmodels\u001b[38;5;241m.\u001b[39mGPR(\n\u001b[1;32m     10\u001b[0m         (np\u001b[38;5;241m.\u001b[39mndarray(\u001b[38;5;28mrange\u001b[39m(\u001b[38;5;28mlen\u001b[39m(row))), row),\n\u001b[1;32m     11\u001b[0m         kernel\u001b[38;5;241m=\u001b[39mk,\n\u001b[1;32m     12\u001b[0m     )\n\u001b[1;32m     14\u001b[0m     base_k1 \u001b[38;5;241m=\u001b[39m gpflow\u001b[38;5;241m.\u001b[39mkernels\u001b[38;5;241m.\u001b[39mMatern32(lengthscales\u001b[38;5;241m=\u001b[39m\u001b[38;5;241m0.2\u001b[39m)\n",
      "\u001b[0;31mNameError\u001b[0m: name 'gpflow' is not defined"
     ]
    }
   ],
   "source": [
    "model = GPModel()\n",
    "\n",
    "predictions = model.predict(train_dataset[\"values\"].values)"
   ]
  },
  {
   "cell_type": "code",
   "execution_count": null,
   "metadata": {},
   "outputs": [
    {
     "ename": "NameError",
     "evalue": "name 'train_dataset' is not defined",
     "output_type": "error",
     "traceback": [
      "\u001b[0;31m---------------------------------------------------------------------------\u001b[0m",
      "\u001b[0;31mNameError\u001b[0m                                 Traceback (most recent call last)",
      "Cell \u001b[0;32mIn[17], line 1\u001b[0m\n\u001b[0;32m----> 1\u001b[0m \u001b[43mtrain_dataset\u001b[49m[\u001b[38;5;124m\"\u001b[39m\u001b[38;5;124mvalues\u001b[39m\u001b[38;5;124m\"\u001b[39m]\u001b[38;5;241m.\u001b[39mvalues\n",
      "\u001b[0;31mNameError\u001b[0m: name 'train_dataset' is not defined"
     ]
    }
   ],
   "source": [
    "train_dataset[\"values\"].values"
   ]
  },
  {
   "cell_type": "code",
   "execution_count": null,
   "metadata": {},
   "outputs": [],
   "source": [
    "!pip install gpflow"
   ]
  },
  {
   "cell_type": "code",
   "execution_count": null,
   "metadata": {},
   "outputs": [],
   "source": []
  }
 ],
 "metadata": {
  "kernelspec": {
   "display_name": ".venv",
   "language": "python",
   "name": "python3"
  },
  "language_info": {
   "codemirror_mode": {
    "name": "ipython",
    "version": 3
   },
   "file_extension": ".py",
   "mimetype": "text/x-python",
   "name": "python",
   "nbconvert_exporter": "python",
   "pygments_lexer": "ipython3",
   "version": "3.12.4"
  }
 },
 "nbformat": 4,
 "nbformat_minor": 4
}
